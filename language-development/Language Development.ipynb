{
 "metadata": {
  "name": "",
  "signature": "sha256:e45fe332503f76fb6919507838dbaa8a5e9db1eb0526067a26cd8127a3fdabbb"
 },
 "nbformat": 3,
 "nbformat_minor": 0,
 "worksheets": [
  {
   "cells": [
    {
     "cell_type": "markdown",
     "metadata": {},
     "source": [
      "# Programming Language Development\n",
      "\n",
      "Welcome! This notebook is going to take you through developing a little toy language. By no means am I an expert -- I just enjoy tooling with programming languages, and perhaps you might gain something through my perspective.\n",
      "\n",
      "\n",
      "# What is a programming language?\n",
      "\n",
      "First off, let's knock down the intimidation of creating a language by viewing it as a bunch of simple tools in a chain. Each piece is straightforward, and simple to understand, but when strung together like a daisy chain, it can seem like a black box with amazing results. But you'll soon see there's no magic!\n",
      "\n",
      "All languages contain a lexer and parser. They do the text processing underlying the language. This process might seem the most mysterious, but they're actually quite simple, and derive their magic from many easy-to-understand rules constraining programmers' input in natural ways. Here's a brief explanation of the two:\n",
      "\n",
      " - **Lexer**: reads in the characters from the source code and tags them (for instance classifying `\"1\"` as a `Number`, or `\")\"` as a `RightParen`). We call its output tokens.\n",
      "\n",
      "\n",
      " - **Parser**: classifies the tokens further, this time in actual terms of the language (for instance the `Number(\"1\")` is tagged as a `Literal`, for literal value, or an `Asterisk(\"*\")` is classified as an `Operator`). We call its output symbols.\n",
      "\n",
      "Here, different types of languages branch off. A language like PHP (the original versions) has an interpreter, which acts directly on the parser's symbols. Python takes it one step further, converting (AKA compiling) symbols into opcodes -- instructions read by a Virtual Machine and executed, much like a real computer. By saving the opcodes to a file, Python needn't feed a program through the lexer and parser more than once. C is much the same, except its instructions can be executed directly by your processor. To sum up:\n",
      "\n",
      " - **Interpreter**: reads in symbols and performs the instructions they contain (`[Number(2), Operator('*'), Number(4)]` would yield the result `Number(8)`, which might be saved to a variable in `Assignment(Variable('foo'), [Number(2), Operator('*'), Number(4)])`)\n",
      "\n",
      "\n",
      " - **Assembly Generator**: reads in symbols and produces a simplified set of instructions comprising the program. The output of this tool would be something like x86 assembly (e.g. `MOV eax, 1`), or the output of Python's `dis.dis`"
     ]
    },
    {
     "cell_type": "code",
     "collapsed": false,
     "input": [
      "import dis\n",
      "\n",
      "def myfunc():\n",
      "    x = 'Hello'\n",
      "    print x\n",
      "\n",
      "dis.dis(myfunc)"
     ],
     "language": "python",
     "metadata": {},
     "outputs": [
      {
       "output_type": "stream",
       "stream": "stdout",
       "text": [
        "  4           0 LOAD_CONST               1 ('Hello')\n",
        "              3 STORE_FAST               0 (x)\n",
        "\n",
        "  5           6 LOAD_FAST                0 (x)\n",
        "              9 PRINT_ITEM          \n",
        "             10 PRINT_NEWLINE       \n",
        "             11 LOAD_CONST               0 (None)\n",
        "             14 RETURN_VALUE        \n"
       ]
      }
     ],
     "prompt_number": 2
    },
    {
     "cell_type": "markdown",
     "metadata": {},
     "source": [
      " - **Assembler**: converts the assembly into a binary format. For native instruction sets (e.g. x86 or ARM), this is known as Machine Code. For Python's instruction set, this is known as bytecode. A lot of the time, languages will skip the assembly generation step and convert symbols directly into machine code or bytecode. However, I think the assembly generation step makes things easier to understand and debug.\n",
      "\n",
      "\n",
      " - **Virtual Machine**: executes bytecode instructions. The assembly language is based on how the virtual machine works. An important distinction of virtual machines is where executed operations read their values from, and where they put their results:\n",
      "\n",
      "   - **Stack-based** machines use a first-in, first-out structure known as a stack (which has the same properties as a literal stack of stuff has) -- `2 * 4` involves pushing `2` and `4` to the stack and calling the multiplication operation, which pops `2` and `4` from the stack, and pushes `8` back on. \n",
      "   - **Register-based** machines have a bunch of slots for values; operations read from specified slots and write results to another slot. \"Regular\" computers are register-based. Stack-based machines are easier to write, and simpler to understand, so we'll stick to that. Register-based machines aren't very difficult to write, but it involves an extra step during assembly generation, so to keep things simple, we'll skip it... for now.\n",
      "\n",
      "\n",
      "# What are we gonna build?\n",
      "\n",
      "We're gonna make a C-like language, though more in the vein of PHP. First, we'll bust through the lexer and parser. Then we'll go through a few methods of executing our code: an interpreter, then an assembly generator, assembler, and virtual machine.\n",
      "\n",
      "Let's get to it!\n",
      "\n",
      "\n",
      "# Our input program\n",
      "\n",
      "To start off like any good tutorial, let's use do Hello World for our first program. Let's store our code:"
     ]
    },
    {
     "cell_type": "code",
     "collapsed": false,
     "input": [
      "code = 'print(\"Hello World!\")'"
     ],
     "language": "python",
     "metadata": {},
     "outputs": []
    }
   ],
   "metadata": {}
  }
 ]
}